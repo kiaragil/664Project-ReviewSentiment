{
 "cells": [
  {
   "cell_type": "code",
   "execution_count": 47,
   "metadata": {},
   "outputs": [],
   "source": [
    "import re\n",
    "\n",
    "import numpy as np\n",
    "import pandas as pd\n",
    "import nltk\n",
    "from nltk.stem.porter import PorterStemmer\n",
    "from nltk.stem import WordNetLemmatizer\n",
    "from sklearn import metrics\n",
    "from sklearn.feature_extraction.text import TfidfVectorizer\n",
    "from sklearn.naive_bayes import MultinomialNB\n",
    "import re\n",
    "import string\n",
    "\n",
    "# df = pd.read_csv('imdb_sup.csv')\n",
    "df = pd.read_csv('imdb_sup.csv', nrows=2)"
   ]
  },
  {
   "cell_type": "code",
   "execution_count": 5,
   "metadata": {},
   "outputs": [],
   "source": [
    "#helper functions for cleaning\n",
    "def remove_punc(word):\n",
    "    punc = '''-!()[]{};:\"\\,<>./?@#$%^&*_~'''\n",
    "    no_punc_word = word.translate(str.maketrans('', '', punc))\n",
    "    return no_punc_word\n",
    "\n",
    "def remove_BR(lst):\n",
    "    words = []\n",
    "    for word in lst:\n",
    "        if word.endswith('br'):\n",
    "            word = word[:-2]\n",
    "        words.append(word)\n",
    "    \n",
    "    return ' '.join(words)\n",
    "\n",
    "def make_lower(word):\n",
    "    return word.lower()\n",
    "\n",
    "def remove_numbers(lst):\n",
    "    no_num_list = [x for x in lst if not any(c.isdigit() for c in x)]\n",
    "    return ' '.join(no_num_list)\n",
    "\n",
    "def remove_words(lst):\n",
    "    extra_stops = ['aa', 'ab','br', 'us', 'mr', 'saw', 'until', 'no', 'when', 'with', \n",
    "            'like', 'just', 'even', 'it\\'s', 'i\\'m', \n",
    "            'who', 'i\\'ve', 'what', 'he', 'see', 'up','get', 'been',\n",
    "            'because', 'into', 'time', 'watch', 'â–','called', '2',\n",
    "             '10', 'said','their', 'can','two', 'go', 'also', 'seen', 'him',\n",
    "            'through', 'it', 'doesn\\'t', 'you\\'re', 'that\\'s', 'there\\'s',\n",
    "            'come', 'said', 'all.', 'screen', 'person', 'i\\'ll', 'is,'\n",
    "            '5', 'sandra', 'them.', '3', '.', 'he\\'s', 'man', 'they\\'re',\n",
    "            '\\\\\\x96', '--', 'i\\'d', 'is,', 'oh', 'one', 'much', 'movies',\n",
    "            'say', '4', '1', 'five', 'what\\'s', '15', 'ed', '...',\n",
    "            'movie', 'film','', '-', 'people', 'could', 'make', 'films', 'reviews']\n",
    "\n",
    "\n",
    "    stop_words = nltk.corpus.stopwords.words(\"english\")\n",
    "    stop_words = set(stop_words)\n",
    "    stop_words.update(extra_stops) \n",
    "\n",
    "    words = [word for word in lst if word not in stop_words]\n",
    "\n",
    "    return ' '.join(words)\n",
    "    "
   ]
  },
  {
   "cell_type": "code",
   "execution_count": 6,
   "metadata": {},
   "outputs": [],
   "source": [
    "def text_clean(message):\n",
    "  message = remove_punc(message)   # remove punctiation except - and \\'\n",
    "  message = remove_words(message.split())\n",
    "  message = remove_BR(message.split())\n",
    "  message = remove_numbers(message.split())\n",
    "  message = nltk.tag.pos_tag(message.split(), tagset='universal')\n",
    "  message = [word for word,tag in message if (tag == 'ADJ' or tag == 'ADV' or tag == 'VERB')]\n",
    "  message = ' '.join(message)\n",
    "  message = message.lower()\n",
    "\n",
    "  return message"
   ]
  },
  {
   "cell_type": "code",
   "execution_count": 37,
   "metadata": {},
   "outputs": [
    {
     "data": {
      "text/plain": [
       "'loved think well played good critical clique almost would give going new repeating know exactly happen progressive tell meant would sad tell meant kidding'"
      ]
     },
     "execution_count": 37,
     "metadata": {},
     "output_type": "execute_result"
    }
   ],
   "source": [
    "test_str = \"I loved a country of Wakanda, the culture, world, scenery and people. I think it was well played, CGIs were very good and story but, I have to be critical about some things. -2 stars because of clique and predictability. If I haven't seen almost all Marvel movies I would give it more stars but they are going on every new hero with one script and they are repeating it over and over again. I know exactly what and when it will happen. -1 star for progressive propaganda and hypocrisy. Example: if Ross tell something about skin color in the move but he didn't meant to insult somebody it would be sad. when Shuri tell Ross 'Colonizer' and she meant as insult, it is ok and no racist. when I saw that I was like are you kidding me?\"\n",
    "text_clean(test_str)\n"
   ]
  },
  {
   "cell_type": "code",
   "execution_count": null,
   "metadata": {},
   "outputs": [],
   "source": []
  },
  {
   "cell_type": "code",
   "execution_count": 48,
   "metadata": {},
   "outputs": [],
   "source": [
    "#cleans all reviews in dataset\n",
    "df['Review'] = df['Review'].apply(text_clean)"
   ]
  },
  {
   "cell_type": "code",
   "execution_count": 49,
   "metadata": {},
   "outputs": [],
   "source": [
    "#shuffles data entries\n",
    "dff = df.sample(frac=1).reset_index(drop=True)"
   ]
  },
  {
   "cell_type": "code",
   "execution_count": 50,
   "metadata": {},
   "outputs": [
    {
     "data": {
      "text/html": [
       "<div>\n",
       "<style scoped>\n",
       "    .dataframe tbody tr th:only-of-type {\n",
       "        vertical-align: middle;\n",
       "    }\n",
       "\n",
       "    .dataframe tbody tr th {\n",
       "        vertical-align: top;\n",
       "    }\n",
       "\n",
       "    .dataframe thead th {\n",
       "        text-align: right;\n",
       "    }\n",
       "</style>\n",
       "<table border=\"1\" class=\"dataframe\">\n",
       "  <thead>\n",
       "    <tr style=\"text-align: right;\">\n",
       "      <th></th>\n",
       "      <th>Review</th>\n",
       "      <th>Rating</th>\n",
       "      <th>Sentiment</th>\n",
       "    </tr>\n",
       "  </thead>\n",
       "  <tbody>\n",
       "    <tr>\n",
       "      <th>0</th>\n",
       "      <td>extremely low looks recorded however good easy follow shooting sexually abusive father released psychiatric secretly affair ends renting first kills then see's neighbor sets acts innocent finds killed attempted hot then stops acting later kill supposedly loves find dies good lot know whole falling stopping</td>\n",
       "      <td>8</td>\n",
       "      <td>1</td>\n",
       "    </tr>\n",
       "    <tr>\n",
       "      <th>1</th>\n",
       "      <td>coupled filmmaking makes finest ever aired holds emotional strong enough never preserved ultimate mindblowingly moving looked quite remains top</td>\n",
       "      <td>10</td>\n",
       "      <td>1</td>\n",
       "    </tr>\n",
       "  </tbody>\n",
       "</table>\n",
       "</div>"
      ],
      "text/plain": [
       "                                                                                                                                                                                                                                                                                                                Review  \\\n",
       "0  extremely low looks recorded however good easy follow shooting sexually abusive father released psychiatric secretly affair ends renting first kills then see's neighbor sets acts innocent finds killed attempted hot then stops acting later kill supposedly loves find dies good lot know whole falling stopping   \n",
       "1                                                                                                                                                                      coupled filmmaking makes finest ever aired holds emotional strong enough never preserved ultimate mindblowingly moving looked quite remains top   \n",
       "\n",
       "   Rating  Sentiment  \n",
       "0       8          1  \n",
       "1      10          1  "
      ]
     },
     "execution_count": 50,
     "metadata": {},
     "output_type": "execute_result"
    }
   ],
   "source": [
    "pd.set_option('display.max_colwidth', None)\n",
    "dff\n"
   ]
  },
  {
   "cell_type": "code",
   "execution_count": 51,
   "metadata": {},
   "outputs": [],
   "source": [
    "#stemming program\n",
    "porterstemmer = PorterStemmer()\n",
    "\n",
    "def steming(message):\n",
    "  return[porterstemmer.stem(word) for word in message.split()]"
   ]
  },
  {
   "cell_type": "code",
   "execution_count": 52,
   "metadata": {},
   "outputs": [],
   "source": [
    "train_X = dff['Review'].head(25000)  \n",
    "train_Y = dff['Rating'].head(25000)  \n",
    "test_X = dff['Review'].tail(25000) \n",
    "test_Y = dff['Rating'].tail(25000)"
   ]
  },
  {
   "cell_type": "code",
   "execution_count": 53,
   "metadata": {},
   "outputs": [],
   "source": [
    "#tf idf\n",
    "tf_idf = TfidfVectorizer(tokenizer=steming)\n",
    "#applying tf idf to training data\n",
    "X_train_tf = tf_idf.fit_transform(train_X)\n",
    "#applying tf idf to training data\n",
    "X_train_tf = tf_idf.transform(train_X)"
   ]
  },
  {
   "cell_type": "code",
   "execution_count": 54,
   "metadata": {},
   "outputs": [
    {
     "name": "stdout",
     "output_type": "stream",
     "text": [
      "n_samples: 2, n_features: 56\n"
     ]
    }
   ],
   "source": [
    "print(\"n_samples: %d, n_features: %d\" % X_train_tf.shape)"
   ]
  },
  {
   "cell_type": "code",
   "execution_count": 55,
   "metadata": {},
   "outputs": [
    {
     "name": "stdout",
     "output_type": "stream",
     "text": [
      "0    extremely low looks recorded however good easy follow shooting sexually abusive father released psychiatric secretly affair ends renting first kills then see's neighbor sets acts innocent finds killed attempted hot then stops acting later kill supposedly loves find dies good lot know whole falling stopping\n",
      "1                                                                                                                                                                        coupled filmmaking makes finest ever aired holds emotional strong enough never preserved ultimate mindblowingly moving looked quite remains top\n",
      "Name: Review, dtype: object\n",
      "  (0, 55)\t0.1285582354796681\n",
      "  (0, 52)\t0.2571164709593362\n",
      "  (0, 51)\t0.1285582354796681\n",
      "  (0, 49)\t0.2571164709593362\n",
      "  (0, 48)\t0.1285582354796681\n",
      "  (0, 47)\t0.1285582354796681\n",
      "  (0, 46)\t0.1285582354796681\n",
      "  (0, 45)\t0.1285582354796681\n",
      "  (0, 44)\t0.1285582354796681\n",
      "  (0, 43)\t0.1285582354796681\n",
      "  (0, 41)\t0.1285582354796681\n",
      "  (0, 40)\t0.1285582354796681\n",
      "  (0, 38)\t0.1285582354796681\n",
      "  (0, 35)\t0.1285582354796681\n",
      "  (0, 31)\t0.1285582354796681\n",
      "  (0, 30)\t0.1285582354796681\n",
      "  (0, 29)\t0.1285582354796681\n",
      "  (0, 28)\t0.09147024336499877\n",
      "  (0, 27)\t0.1285582354796681\n",
      "  (0, 26)\t0.1285582354796681\n",
      "  (0, 25)\t0.3856747064390043\n",
      "  (0, 24)\t0.1285582354796681\n",
      "  (0, 23)\t0.1285582354796681\n",
      "  (0, 22)\t0.1285582354796681\n",
      "  (0, 20)\t0.2571164709593362\n",
      "  :\t:\n",
      "  (0, 7)\t0.1285582354796681\n",
      "  (0, 6)\t0.1285582354796681\n",
      "  (0, 4)\t0.1285582354796681\n",
      "  (0, 2)\t0.1285582354796681\n",
      "  (0, 1)\t0.2571164709593362\n",
      "  (0, 0)\t0.1285582354796681\n",
      "  (1, 54)\t0.23245605245563553\n",
      "  (1, 53)\t0.23245605245563553\n",
      "  (1, 50)\t0.23245605245563553\n",
      "  (1, 42)\t0.23245605245563553\n",
      "  (1, 39)\t0.23245605245563553\n",
      "  (1, 37)\t0.23245605245563553\n",
      "  (1, 36)\t0.23245605245563553\n",
      "  (1, 34)\t0.23245605245563553\n",
      "  (1, 33)\t0.23245605245563553\n",
      "  (1, 32)\t0.23245605245563553\n",
      "  (1, 28)\t0.16539439585841767\n",
      "  (1, 21)\t0.23245605245563553\n",
      "  (1, 17)\t0.23245605245563553\n",
      "  (1, 15)\t0.23245605245563553\n",
      "  (1, 11)\t0.23245605245563553\n",
      "  (1, 10)\t0.23245605245563553\n",
      "  (1, 8)\t0.23245605245563553\n",
      "  (1, 5)\t0.23245605245563553\n",
      "  (1, 3)\t0.23245605245563553\n",
      "n_samples: 2, n_features: 56\n"
     ]
    }
   ],
   "source": [
    "#transforming test data into tf-idf matrix\n",
    "X_test_tf = tf_idf.transform(test_X)\n",
    "print(test_X)\n",
    "print(X_test_tf)\n",
    "\n",
    "print(\"n_samples: %d, n_features: %d\" % X_test_tf.shape) # the result of the test data and training data are the same"
   ]
  },
  {
   "cell_type": "code",
   "execution_count": 31,
   "metadata": {},
   "outputs": [
    {
     "name": "stdout",
     "output_type": "stream",
     "text": [
      "Confusion matrix:\n",
      "[[4771    0    0    0    0    0    0  359]\n",
      " [1971    0    0    0    0    0    0  265]\n",
      " [2055    0    0    1    0    0    0  425]\n",
      " [1962    0    0    1    0    1    0  729]\n",
      " [ 663    0    0    0    0    1    0 1746]\n",
      " [ 518    0    0    0    0    8    0 2394]\n",
      " [ 290    0    0    0    0    0    0 2018]\n",
      " [ 601    0    0    0    0    0    0 4221]]\n"
     ]
    }
   ],
   "source": [
    "#naive bayes classifier\n",
    "naive_bayes_classifier = MultinomialNB()\n",
    "naive_bayes_classifier.fit(X_train_tf, train_Y)\n",
    "#predicted y\n",
    "y_pred = naive_bayes_classifier.predict(X_test_tf)\n",
    "\n",
    "# print(metrics.classification_report(test_Y, y_pred, target_names=[1,2,3,4,5,6,7,8]))\n",
    "print(\"Confusion matrix:\")\n",
    "print(metrics.confusion_matrix(test_Y, y_pred))"
   ]
  },
  {
   "cell_type": "code",
   "execution_count": 26,
   "metadata": {},
   "outputs": [],
   "source": [
    "test = 'First of all it was my childhood dream to see these hero\\'s in a big screen and it was full filled. The movie was quite good for me but after getting out of the theatre there were not much scenes in my mind that i can feel awesome about. Zack Snyder is a master in making comic book style of movies he has proved it by his movie the Watchmen but in the movie the Justice league the movie lost its synder touch and the whole movie looks like a rip off to marvel movie mantra that they use in there films(like the happy go jolly characters not much tension on the screen light hearted) likewise Josh wedon has made this movie into a marvel like film. The Justice league had many character moments for all but the grip was loosen up to make the fan/audience glue to there seats. The whole colour tone of the movie was changed by josh and as the Wb asked them to cut down its length to 2hrs(as the internet says Wb asked them to do so) But anyone who watched the film can easily see that many of the scenes showned in the trailer is not in the movie,even the dialogue by steppen wolf \"No protector here.. .. .   .... This world will fall like all the others\" that one was also cut off in the film.in justice league the expensive reshooted scenes that have no connection to the actual film plot and at first report the movies run time was nearly 3hrs and now we got a 2hrs 1min movie to watch with most of the scenes cut off..As a movie lover its just hurts know that they reduce the length of the film that has so much potential to reach for more.When Bvs released the critics and some marvel fan boys said its so dark and lengthy with not much strong plot to establish the cause of the fight between Batman and superman. But after they release the extended cut bvs we all get to know the exact chronology of the plot. Likewise this movie should also release the extended cut/directors cut version but zack was great for making something that is so gripping and his tones delivers the theme itself but here its all josh wedon who just ruined Zack\\'s vision and made a marvel-istic movie with his Cuts. Overall the movie was Great and All the actors played there roles perfectly and the image of batman had be shifted abit in my view as there is a bit of difference between the Bvs batman and the JL batman, Bvs batman was more like the exact comic book Dark Knight but in this He is more Like Tony stark here and there. And those who relay on F**king tomatoes ratings don\\'t watch If you are a movie lover and if this is your genre then go for it From the intro scene of Batman you will love the movie While watching the films you won\\'t be able to see any flaws because of its paced 2hrs cut.For me the rating for this film would be 6.5/10. Go and watch for yourself its an entertaining Flick don\\'t miss it ..the only draw back you will have will be with its running time and scenes cut off.'\n",
    "\n",
    "processed = []\n",
    "processed.append(text_clean(test))"
   ]
  },
  {
   "cell_type": "code",
   "execution_count": 35,
   "metadata": {},
   "outputs": [],
   "source": [
    "test_input = tf_idf.transform(processed)\n",
    "test_input.shape\n",
    "\n",
    "#0= bad review\n",
    "#1= good review\n",
    "res=naive_bayes_classifier.predict(test_input)[0]\n",
    "if res==1:\n",
    "    print(\"Good Review\")\n",
    "elif res==0:\n",
    "    print(\"Bad Review\")"
   ]
  }
 ],
 "metadata": {
  "kernelspec": {
   "display_name": "Python 3.10.7 64-bit",
   "language": "python",
   "name": "python3"
  },
  "language_info": {
   "codemirror_mode": {
    "name": "ipython",
    "version": 3
   },
   "file_extension": ".py",
   "mimetype": "text/x-python",
   "name": "python",
   "nbconvert_exporter": "python",
   "pygments_lexer": "ipython3",
   "version": "3.10.7"
  },
  "orig_nbformat": 4,
  "vscode": {
   "interpreter": {
    "hash": "aee8b7b246df8f9039afb4144a1f6fd8d2ca17a180786b69acc140d282b71a49"
   }
  }
 },
 "nbformat": 4,
 "nbformat_minor": 2
}
