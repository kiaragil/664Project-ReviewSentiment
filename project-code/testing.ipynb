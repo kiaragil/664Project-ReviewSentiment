{
 "cells": [
  {
   "cell_type": "code",
   "execution_count": 125,
   "metadata": {},
   "outputs": [],
   "source": [
    "import re\n",
    "\n",
    "import numpy as np\n",
    "import pandas as pd\n",
    "import nltk\n",
    "from nltk.stem.porter import PorterStemmer\n",
    "from nltk.stem import WordNetLemmatizer\n",
    "from sklearn import metrics\n",
    "from sklearn.feature_extraction.text import TfidfVectorizer\n",
    "from sklearn.naive_bayes import MultinomialNB\n",
    "import re\n",
    "import string\n",
    "\n",
    "df = pd.read_csv('imdb_sup.csv')"
   ]
  },
  {
   "cell_type": "code",
   "execution_count": 259,
   "metadata": {},
   "outputs": [],
   "source": [
    "#helper functions for cleaning\n",
    "def remove_punc(word):\n",
    "    punc = '''-!()[]{};:\"\\,<>./?@#$%^&*_~'''\n",
    "    no_punc_word = word.translate(str.maketrans('', '', punc))\n",
    "    return no_punc_word\n",
    "\n",
    "def remove_BR(lst):\n",
    "    words = []\n",
    "    for word in lst:\n",
    "        if word.endswith('br'):\n",
    "            word = word[:-2]\n",
    "        words.append(word)\n",
    "    \n",
    "    return ' '.join(words)\n",
    "\n",
    "def make_lower(word):\n",
    "    return word.lower()\n",
    "\n",
    "def remove_numbers(lst):\n",
    "    no_num_list = [x for x in lst if not any(c.isdigit() for c in x)]\n",
    "    return ' '.join(no_num_list)\n",
    "\n",
    "def remove_words(lst):\n",
    "    extra_stops = ['aa', 'ab','br', 'us', 'mr', 'saw', 'until', 'no', 'when', 'with', \n",
    "            'like', 'just', 'even', 'it\\'s', 'i\\'m', \n",
    "            'who', 'i\\'ve', 'what', 'he', 'see', 'up','get', 'been',\n",
    "            'because', 'into', 'time', 'watch', 'â–','called', '2',\n",
    "             '10', 'said','their', 'can','two', 'go', 'also', 'seen', 'him',\n",
    "            'through', 'it', 'doesn\\'t', 'you\\'re', 'that\\'s', 'there\\'s',\n",
    "            'come', 'said', 'all.', 'screen', 'person', 'i\\'ll', 'is,'\n",
    "            '5', 'sandra', 'them.', '3', '.', 'he\\'s', 'man', 'they\\'re',\n",
    "            '\\\\\\x96', '--', 'i\\'d', 'is,', 'oh', 'one', 'much', 'movies',\n",
    "            'say', '4', '1', 'five', 'what\\'s', '15', 'ed', '...',\n",
    "            'movie', 'film','', '-', 'people', 'could', 'make', 'films', 'reviews']\n",
    "\n",
    "\n",
    "    stop_words = nltk.corpus.stopwords.words(\"english\")\n",
    "    stop_words = set(stop_words)\n",
    "    stop_words.update(extra_stops) \n",
    "\n",
    "    words = [word for word in lst if word not in stop_words]\n",
    "\n",
    "    return ' '.join(words)\n",
    "    "
   ]
  },
  {
   "cell_type": "code",
   "execution_count": 163,
   "metadata": {},
   "outputs": [],
   "source": [
    "def text_clean(message):\n",
    "  message = remove_punc(message)   # remove punctiation except - and \\'\n",
    "  message = remove_words(message.split())\n",
    "  message = remove_BR(message.split())\n",
    "  message = remove_numbers(message.split())\n",
    "  message = nltk.tag.pos_tag(message.split(), tagset='universal')\n",
    "  message = [word for word,tag in message if (tag == 'ADJ' or tag == 'ADV' or tag == 'VERB')]\n",
    "  message = ' '.join(message)\n",
    "  message.lower()\n",
    "\n",
    "  return message"
   ]
  },
  {
   "cell_type": "code",
   "execution_count": 164,
   "metadata": {},
   "outputs": [
    {
     "data": {
      "text/plain": [
       "'Skippy wonderful wonderous wonder plays wussy nerd gets picked When favorite dies throws hissy fit tearing bedroom later gets unreleased holds spirit dead first gets sucked revenge want take far really far main seem utterly laughable real maybe tad piece played clue reaches applaud otherwise skip gets topless extra'"
      ]
     },
     "execution_count": 164,
     "metadata": {},
     "output_type": "execute_result"
    }
   ],
   "source": [
    "test_str = \"Skippy A wonderful wonderous wonder from \\\"Family Ties\\\" plays Eddie, a wussy 'metal' nerd who gets picked on. When his favorite wussy 'metal' singer, Sammi Curr, dies, he throws a hissy fit tearing down all the posters on his bedroom wall. But when he later gets an unreleased record that holds the spirit of his dead 'metal' idol. He first gets sucked into ideas of revenge, but then he doesn't want to take it as far as Sammi does. Which isn't really that far as his main victims only seem to go to the hospital. This movie is utterly laughable and has about as much to do with real metal as say, \\\"Rock Star\\\". OK, maybe a tad more than that piece of junk, but you get my point. And how ANYone can root for a guy played by Skippy from \\\"Family Ties\\\" I haven't a clue. The cameo by Gene Simmons is OK, and Ozzy Osbourne reaches coherency, I applaud him for that, but otherwise skip this one.<br /><br />My Grade: D <br /><br />Eye Candy:Elise Richards gets topless, an a topless extra at a pool party\"\n",
    "text_clean(test_str)"
   ]
  },
  {
   "cell_type": "code",
   "execution_count": null,
   "metadata": {},
   "outputs": [],
   "source": []
  },
  {
   "cell_type": "code",
   "execution_count": 106,
   "metadata": {},
   "outputs": [],
   "source": [
    "#cleans all reviews in dataset\n",
    "df['Review'] = df['Review'].apply(text_clean)"
   ]
  },
  {
   "cell_type": "code",
   "execution_count": 165,
   "metadata": {},
   "outputs": [],
   "source": [
    "#shuffles data entries\n",
    "dff = df.sample(frac=1).reset_index(drop=True)"
   ]
  },
  {
   "cell_type": "code",
   "execution_count": 166,
   "metadata": {},
   "outputs": [
    {
     "data": {
      "text/html": [
       "<div>\n",
       "<style scoped>\n",
       "    .dataframe tbody tr th:only-of-type {\n",
       "        vertical-align: middle;\n",
       "    }\n",
       "\n",
       "    .dataframe tbody tr th {\n",
       "        vertical-align: top;\n",
       "    }\n",
       "\n",
       "    .dataframe thead th {\n",
       "        text-align: right;\n",
       "    }\n",
       "</style>\n",
       "<table border=\"1\" class=\"dataframe\">\n",
       "  <thead>\n",
       "    <tr style=\"text-align: right;\">\n",
       "      <th></th>\n",
       "      <th>Review</th>\n",
       "      <th>Rating</th>\n",
       "      <th>Sentiment</th>\n",
       "    </tr>\n",
       "  </thead>\n",
       "  <tbody>\n",
       "    <tr>\n",
       "      <th>0</th>\n",
       "      <td>this is the worst film I've seen in a long lon...</td>\n",
       "      <td>1</td>\n",
       "      <td>0</td>\n",
       "    </tr>\n",
       "    <tr>\n",
       "      <th>1</th>\n",
       "      <td>I tried to love this movie. I really did. Kevi...</td>\n",
       "      <td>4</td>\n",
       "      <td>0</td>\n",
       "    </tr>\n",
       "    <tr>\n",
       "      <th>2</th>\n",
       "      <td>This is going to be my first review on IMDb an...</td>\n",
       "      <td>1</td>\n",
       "      <td>0</td>\n",
       "    </tr>\n",
       "    <tr>\n",
       "      <th>3</th>\n",
       "      <td>bad acting , combats are very awful , 3-4 seco...</td>\n",
       "      <td>2</td>\n",
       "      <td>0</td>\n",
       "    </tr>\n",
       "    <tr>\n",
       "      <th>4</th>\n",
       "      <td>This adaptation positively butchers a classic ...</td>\n",
       "      <td>1</td>\n",
       "      <td>0</td>\n",
       "    </tr>\n",
       "    <tr>\n",
       "      <th>...</th>\n",
       "      <td>...</td>\n",
       "      <td>...</td>\n",
       "      <td>...</td>\n",
       "    </tr>\n",
       "    <tr>\n",
       "      <th>49995</th>\n",
       "      <td>Fever Pitch is a sweet and charming addition t...</td>\n",
       "      <td>8</td>\n",
       "      <td>1</td>\n",
       "    </tr>\n",
       "    <tr>\n",
       "      <th>49996</th>\n",
       "      <td>When it first came out, this work by the Meyse...</td>\n",
       "      <td>7</td>\n",
       "      <td>1</td>\n",
       "    </tr>\n",
       "    <tr>\n",
       "      <th>49997</th>\n",
       "      <td>Not very interesting teen whodunit saved from ...</td>\n",
       "      <td>4</td>\n",
       "      <td>0</td>\n",
       "    </tr>\n",
       "    <tr>\n",
       "      <th>49998</th>\n",
       "      <td>A surprising misfire from the usually reliable...</td>\n",
       "      <td>3</td>\n",
       "      <td>0</td>\n",
       "    </tr>\n",
       "    <tr>\n",
       "      <th>49999</th>\n",
       "      <td>In the spirit of the Great Space Coaster, but ...</td>\n",
       "      <td>8</td>\n",
       "      <td>1</td>\n",
       "    </tr>\n",
       "  </tbody>\n",
       "</table>\n",
       "<p>50000 rows × 3 columns</p>\n",
       "</div>"
      ],
      "text/plain": [
       "                                                  Review  Rating  Sentiment\n",
       "0      this is the worst film I've seen in a long lon...       1          0\n",
       "1      I tried to love this movie. I really did. Kevi...       4          0\n",
       "2      This is going to be my first review on IMDb an...       1          0\n",
       "3      bad acting , combats are very awful , 3-4 seco...       2          0\n",
       "4      This adaptation positively butchers a classic ...       1          0\n",
       "...                                                  ...     ...        ...\n",
       "49995  Fever Pitch is a sweet and charming addition t...       8          1\n",
       "49996  When it first came out, this work by the Meyse...       7          1\n",
       "49997  Not very interesting teen whodunit saved from ...       4          0\n",
       "49998  A surprising misfire from the usually reliable...       3          0\n",
       "49999  In the spirit of the Great Space Coaster, but ...       8          1\n",
       "\n",
       "[50000 rows x 3 columns]"
      ]
     },
     "execution_count": 166,
     "metadata": {},
     "output_type": "execute_result"
    }
   ],
   "source": [
    "dff"
   ]
  },
  {
   "cell_type": "code",
   "execution_count": 167,
   "metadata": {},
   "outputs": [],
   "source": [
    "#stemming program\n",
    "porterstemmer = PorterStemmer()\n",
    "\n",
    "def steming(message):\n",
    "  return[porterstemmer.stem(word) for word in message.split()]"
   ]
  },
  {
   "cell_type": "code",
   "execution_count": 266,
   "metadata": {},
   "outputs": [],
   "source": [
    "train_X = dff['Review'].head(25000)  \n",
    "train_Y = dff['Rating'].head(25000)  \n",
    "test_X = dff['Review'].tail(25000) \n",
    "test_Y = dff['Rating'].tail(25000)"
   ]
  },
  {
   "cell_type": "code",
   "execution_count": 267,
   "metadata": {},
   "outputs": [],
   "source": [
    "#tf idf\n",
    "tf_idf = TfidfVectorizer(tokenizer=steming)\n",
    "#applying tf idf to training data\n",
    "X_train_tf = tf_idf.fit_transform(train_X)\n",
    "#applying tf idf to training data\n",
    "X_train_tf = tf_idf.transform(train_X)"
   ]
  },
  {
   "cell_type": "code",
   "execution_count": 254,
   "metadata": {},
   "outputs": [
    {
     "name": "stdout",
     "output_type": "stream",
     "text": [
      "n_samples: 25000, n_features: 228862\n"
     ]
    }
   ],
   "source": [
    "print(\"n_samples: %d, n_features: %d\" % X_train_tf.shape)"
   ]
  },
  {
   "cell_type": "code",
   "execution_count": 268,
   "metadata": {},
   "outputs": [
    {
     "name": "stdout",
     "output_type": "stream",
     "text": [
      "n_samples: 25000, n_features: 228862\n"
     ]
    }
   ],
   "source": [
    "#transforming test data into tf-idf matrix\n",
    "X_test_tf = tf_idf.transform(test_X)\n",
    "\n",
    "print(\"n_samples: %d, n_features: %d\" % X_test_tf.shape) # the result of the test data and training data are the same"
   ]
  },
  {
   "cell_type": "code",
   "execution_count": 269,
   "metadata": {},
   "outputs": [
    {
     "ename": "ValueError",
     "evalue": "Number of classes, 8, does not match size of target_names, 2. Try specifying the labels parameter",
     "output_type": "error",
     "traceback": [
      "\u001b[1;31m---------------------------------------------------------------------------\u001b[0m",
      "\u001b[1;31mValueError\u001b[0m                                Traceback (most recent call last)",
      "Cell \u001b[1;32mIn [269], line 7\u001b[0m\n\u001b[0;32m      4\u001b[0m \u001b[39m#predicted y\u001b[39;00m\n\u001b[0;32m      5\u001b[0m y_pred \u001b[39m=\u001b[39m naive_bayes_classifier\u001b[39m.\u001b[39mpredict(X_test_tf)\n\u001b[1;32m----> 7\u001b[0m \u001b[39mprint\u001b[39m(metrics\u001b[39m.\u001b[39;49mclassification_report(test_Y, y_pred, target_names\u001b[39m=\u001b[39;49m[\u001b[39m'\u001b[39;49m\u001b[39mpos\u001b[39;49m\u001b[39m'\u001b[39;49m, \u001b[39m'\u001b[39;49m\u001b[39mneg\u001b[39;49m\u001b[39m'\u001b[39;49m]))\n\u001b[0;32m      8\u001b[0m \u001b[39mprint\u001b[39m(\u001b[39m\"\u001b[39m\u001b[39mConfusion matrix:\u001b[39m\u001b[39m\"\u001b[39m)\n\u001b[0;32m      9\u001b[0m \u001b[39mprint\u001b[39m(metrics\u001b[39m.\u001b[39mconfusion_matrix(test_Y, y_pred))\n",
      "File \u001b[1;32mc:\\Users\\Kiara\\AppData\\Local\\Programs\\Python\\Python310\\lib\\site-packages\\sklearn\\metrics\\_classification.py:2154\u001b[0m, in \u001b[0;36mclassification_report\u001b[1;34m(y_true, y_pred, labels, target_names, sample_weight, digits, output_dict, zero_division)\u001b[0m\n\u001b[0;32m   2148\u001b[0m         warnings\u001b[39m.\u001b[39mwarn(\n\u001b[0;32m   2149\u001b[0m             \u001b[39m\"\u001b[39m\u001b[39mlabels size, \u001b[39m\u001b[39m{0}\u001b[39;00m\u001b[39m, does not match size of target_names, \u001b[39m\u001b[39m{1}\u001b[39;00m\u001b[39m\"\u001b[39m\u001b[39m.\u001b[39mformat(\n\u001b[0;32m   2150\u001b[0m                 \u001b[39mlen\u001b[39m(labels), \u001b[39mlen\u001b[39m(target_names)\n\u001b[0;32m   2151\u001b[0m             )\n\u001b[0;32m   2152\u001b[0m         )\n\u001b[0;32m   2153\u001b[0m     \u001b[39melse\u001b[39;00m:\n\u001b[1;32m-> 2154\u001b[0m         \u001b[39mraise\u001b[39;00m \u001b[39mValueError\u001b[39;00m(\n\u001b[0;32m   2155\u001b[0m             \u001b[39m\"\u001b[39m\u001b[39mNumber of classes, \u001b[39m\u001b[39m{0}\u001b[39;00m\u001b[39m, does not match size of \u001b[39m\u001b[39m\"\u001b[39m\n\u001b[0;32m   2156\u001b[0m             \u001b[39m\"\u001b[39m\u001b[39mtarget_names, \u001b[39m\u001b[39m{1}\u001b[39;00m\u001b[39m. Try specifying the labels \u001b[39m\u001b[39m\"\u001b[39m\n\u001b[0;32m   2157\u001b[0m             \u001b[39m\"\u001b[39m\u001b[39mparameter\u001b[39m\u001b[39m\"\u001b[39m\u001b[39m.\u001b[39mformat(\u001b[39mlen\u001b[39m(labels), \u001b[39mlen\u001b[39m(target_names))\n\u001b[0;32m   2158\u001b[0m         )\n\u001b[0;32m   2159\u001b[0m \u001b[39mif\u001b[39;00m target_names \u001b[39mis\u001b[39;00m \u001b[39mNone\u001b[39;00m:\n\u001b[0;32m   2160\u001b[0m     target_names \u001b[39m=\u001b[39m [\u001b[39m\"\u001b[39m\u001b[39m%s\u001b[39;00m\u001b[39m\"\u001b[39m \u001b[39m%\u001b[39m l \u001b[39mfor\u001b[39;00m l \u001b[39min\u001b[39;00m labels]\n",
      "\u001b[1;31mValueError\u001b[0m: Number of classes, 8, does not match size of target_names, 2. Try specifying the labels parameter"
     ]
    }
   ],
   "source": [
    "#naive bayes classifier\n",
    "naive_bayes_classifier = MultinomialNB()\n",
    "naive_bayes_classifier.fit(X_train_tf, train_Y)\n",
    "#predicted y\n",
    "y_pred = naive_bayes_classifier.predict(X_test_tf)\n",
    "\n",
    "print(metrics.classification_report(test_Y, y_pred, target_names=[1,2,3,4,5,6,7,8]))\n",
    "print(\"Confusion matrix:\")\n",
    "print(metrics.confusion_matrix(test_Y, y_pred))"
   ]
  },
  {
   "cell_type": "code",
   "execution_count": 264,
   "metadata": {},
   "outputs": [],
   "source": [
    "test = 'First of all it was my childhood dream to see these hero\\'s in a big screen and it was full filled. The movie was quite good for me but after getting out of the theatre there were not much scenes in my mind that i can feel awesome about. Zack Snyder is a master in making comic book style of movies he has proved it by his movie the Watchmen but in the movie the Justice league the movie lost its synder touch and the whole movie looks like a rip off to marvel movie mantra that they use in there films(like the happy go jolly characters not much tension on the screen light hearted) likewise Josh wedon has made this movie into a marvel like film. The Justice league had many character moments for all but the grip was loosen up to make the fan/audience glue to there seats. The whole colour tone of the movie was changed by josh and as the Wb asked them to cut down its length to 2hrs(as the internet says Wb asked them to do so) But anyone who watched the film can easily see that many of the scenes showned in the trailer is not in the movie,even the dialogue by steppen wolf \"No protector here.. .. .   .... This world will fall like all the others\" that one was also cut off in the film.in justice league the expensive reshooted scenes that have no connection to the actual film plot and at first report the movies run time was nearly 3hrs and now we got a 2hrs 1min movie to watch with most of the scenes cut off..As a movie lover its just hurts know that they reduce the length of the film that has so much potential to reach for more.When Bvs released the critics and some marvel fan boys said its so dark and lengthy with not much strong plot to establish the cause of the fight between Batman and superman. But after they release the extended cut bvs we all get to know the exact chronology of the plot. Likewise this movie should also release the extended cut/directors cut version but zack was great for making something that is so gripping and his tones delivers the theme itself but here its all josh wedon who just ruined Zack\\'s vision and made a marvel-istic movie with his Cuts. Overall the movie was Great and All the actors played there roles perfectly and the image of batman had be shifted abit in my view as there is a bit of difference between the Bvs batman and the JL batman, Bvs batman was more like the exact comic book Dark Knight but in this He is more Like Tony stark here and there. And those who relay on F**king tomatoes ratings don\\'t watch If you are a movie lover and if this is your genre then go for it From the intro scene of Batman you will love the movie While watching the films you won\\'t be able to see any flaws because of its paced 2hrs cut.For me the rating for this film would be 6.5/10. Go and watch for yourself its an entertaining Flick don\\'t miss it ..the only draw back you will have will be with its running time and scenes cut off.'\n",
    "\n",
    "processed = []\n",
    "processed.append(text_clean(test))"
   ]
  },
  {
   "cell_type": "code",
   "execution_count": 265,
   "metadata": {},
   "outputs": [
    {
     "name": "stdout",
     "output_type": "stream",
     "text": [
      "Good Review\n"
     ]
    }
   ],
   "source": [
    "test_input = tf_idf.transform(processed)\n",
    "test_input.shape\n",
    "\n",
    "#0= bad review\n",
    "#1= good review\n",
    "res=naive_bayes_classifier.predict(test_input)[0]\n",
    "if res==1:\n",
    "    print(\"Good Review\")\n",
    "elif res==0:\n",
    "    print(\"Bad Review\")"
   ]
  }
 ],
 "metadata": {
  "kernelspec": {
   "display_name": "Python 3.10.2 64-bit",
   "language": "python",
   "name": "python3"
  },
  "language_info": {
   "codemirror_mode": {
    "name": "ipython",
    "version": 3
   },
   "file_extension": ".py",
   "mimetype": "text/x-python",
   "name": "python",
   "nbconvert_exporter": "python",
   "pygments_lexer": "ipython3",
   "version": "3.10.2"
  },
  "orig_nbformat": 4,
  "vscode": {
   "interpreter": {
    "hash": "93fc48ac95f2a524802d2b916031a45fd84abb9f132d20c28eee477d58cd39d2"
   }
  }
 },
 "nbformat": 4,
 "nbformat_minor": 2
}
