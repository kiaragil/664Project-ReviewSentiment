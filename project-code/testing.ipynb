{
 "cells": [
  {
   "cell_type": "code",
   "execution_count": 23,
   "metadata": {},
   "outputs": [],
   "source": [
    "import re\n",
    "\n",
    "import numpy as np\n",
    "import pandas as pd\n",
    "import nltk\n",
    "# nltk.download()\n",
    "from nltk.stem.porter import PorterStemmer\n",
    "from nltk.stem import WordNetLemmatizer\n",
    "from sklearn import metrics\n",
    "from sklearn.feature_extraction.text import TfidfVectorizer, CountVectorizer, TfidfTransformer\n",
    "from sklearn.naive_bayes import MultinomialNB\n",
    "import re\n",
    "import string\n",
    "\n",
    "df = pd.read_csv('imdb_sup.csv')"
   ]
  },
  {
   "cell_type": "code",
   "execution_count": 3,
   "metadata": {},
   "outputs": [],
   "source": [
    "#helper functions for cleaning\n",
    "def remove_punc(word):\n",
    "    punc = '''-!()[]{};:\"\\,<>./?@#$%^&*_~'''\n",
    "    no_punc_word = word.translate(str.maketrans('', '', punc))\n",
    "    return no_punc_word\n",
    "\n",
    "def remove_BR(lst):\n",
    "    words = []\n",
    "    for word in lst:\n",
    "        if word.endswith('br'):\n",
    "            word = word[:-2]\n",
    "        words.append(word)\n",
    "    \n",
    "    return ' '.join(words)\n",
    "\n",
    "def make_lower(lst):\n",
    "    no_upper_list = [x.lower() for x in lst]\n",
    "    return ' '.join(no_upper_list)\n",
    "\n",
    "def remove_numbers(lst):\n",
    "    no_num_list = [x for x in lst if not any(c.isdigit() for c in x)]\n",
    "    return ' '.join(no_num_list)\n",
    "\n",
    "def remove_words(lst):\n",
    "    extra_stops = ['aa', 'ab','br', 'us', 'mr', 'saw', 'until', 'no', 'when', 'with', \n",
    "            'like', 'just', 'even', 'it\\'s', 'i\\'m', \n",
    "            'who', 'i\\'ve', 'what', 'he', 'see', 'up','get', 'been',\n",
    "            'because', 'into', 'time', 'watch', 'â–','called', '2',\n",
    "             '10', 'said','their', 'can','two', 'go', 'also', 'seen', 'him',\n",
    "            'through', 'it', 'doesn\\'t', 'you\\'re', 'that\\'s', 'there\\'s',\n",
    "            'come', 'said', 'all.', 'screen', 'person', 'i\\'ll', 'is,'\n",
    "            '5', 'sandra', 'them.', '3', '.', 'he\\'s', 'man', 'they\\'re',\n",
    "            '\\\\\\x96', '--', 'i\\'d', 'is,', 'oh', 'one', 'much', 'movies',\n",
    "            'say', '4', '1', 'five', 'what\\'s', '15', 'ed', '...',\n",
    "            'movie', 'film','', '-', 'people', 'could', 'make', 'films', 'reviews']\n",
    "\n",
    "\n",
    "    stop_words = nltk.corpus.stopwords.words(\"english\")\n",
    "    stop_words = set(stop_words)\n",
    "    stop_words.update(extra_stops) \n",
    "\n",
    "    words = [word for word in lst if word not in stop_words]\n",
    "\n",
    "    return ' '.join(words)\n",
    "    "
   ]
  },
  {
   "cell_type": "code",
   "execution_count": 4,
   "metadata": {},
   "outputs": [],
   "source": [
    "def text_clean(message):\n",
    "  message = remove_punc(message)   # remove punctiation except - and \\'\n",
    "  message = remove_words(message.split())\n",
    "  message = remove_BR(message.split())\n",
    "  message = remove_numbers(message.split())\n",
    "  message = make_lower(message.split())\n",
    "  message = nltk.tag.pos_tag(message.split(), tagset='universal')\n",
    "  message = [word for word,tag in message if (tag == 'ADJ' or tag == 'ADV' or tag == 'VERB')]\n",
    "  message = ' '.join(message)\n",
    "  # message.lower()\n",
    "  \n",
    "  \n",
    "  # print(message)\n",
    "  \n",
    "\n",
    "  return message"
   ]
  },
  {
   "cell_type": "code",
   "execution_count": 5,
   "metadata": {},
   "outputs": [
    {
     "data": {
      "text/plain": [
       "'skippy wonderful wonderous wonder plays eddie wussy nerd gets picked when favorite dies throws hissy fit tearing bedroom later gets unreleased holds spirit dead first gets sucked revenge want take far really far main seem utterly laughable real ok maybe tad piece played skippy i clue ok ozzy osbourne reaches applaud otherwise skip gets topless extra'"
      ]
     },
     "execution_count": 5,
     "metadata": {},
     "output_type": "execute_result"
    }
   ],
   "source": [
    "test_str = \"Skippy A wonderful wonderous wonder from \\\"Family Ties\\\" plays Eddie, a wussy 'metal' nerd who gets picked on. When his favorite wussy 'metal' singer, Sammi Curr, dies, he throws a hissy fit tearing down all the posters on his bedroom wall. But when he later gets an unreleased record that holds the spirit of his dead 'metal' idol. He first gets sucked into ideas of revenge, but then he doesn't want to take it as far as Sammi does. Which isn't really that far as his main victims only seem to go to the hospital. This movie is utterly laughable and has about as much to do with real metal as say, \\\"Rock Star\\\". OK, maybe a tad more than that piece of junk, but you get my point. And how ANYone can root for a guy played by Skippy from \\\"Family Ties\\\" I haven't a clue. The cameo by Gene Simmons is OK, and Ozzy Osbourne reaches coherency, I applaud him for that, but otherwise skip this one.<br /><br />My Grade: D <br /><br />Eye Candy:Elise Richards gets topless, an a topless extra at a pool party\"\n",
    "text_clean(test_str)"
   ]
  },
  {
   "cell_type": "code",
   "execution_count": 6,
   "metadata": {},
   "outputs": [],
   "source": [
    "#cleans all reviews in dataset\n",
    "df['Review'] = df['Review'].apply(text_clean)"
   ]
  },
  {
   "cell_type": "code",
   "execution_count": 7,
   "metadata": {},
   "outputs": [],
   "source": [
    "#shuffles data entries\n",
    "dff = df.sample(frac=1).reset_index(drop=True)"
   ]
  },
  {
   "cell_type": "code",
   "execution_count": 8,
   "metadata": {},
   "outputs": [
    {
     "data": {
      "text/html": [
       "<div>\n",
       "<style scoped>\n",
       "    .dataframe tbody tr th:only-of-type {\n",
       "        vertical-align: middle;\n",
       "    }\n",
       "\n",
       "    .dataframe tbody tr th {\n",
       "        vertical-align: top;\n",
       "    }\n",
       "\n",
       "    .dataframe thead th {\n",
       "        text-align: right;\n",
       "    }\n",
       "</style>\n",
       "<table border=\"1\" class=\"dataframe\">\n",
       "  <thead>\n",
       "    <tr style=\"text-align: right;\">\n",
       "      <th></th>\n",
       "      <th>Review</th>\n",
       "      <th>Rating</th>\n",
       "      <th>Sentiment</th>\n",
       "    </tr>\n",
       "  </thead>\n",
       "  <tbody>\n",
       "    <tr>\n",
       "      <th>0</th>\n",
       "      <td>absolutely terrible funny snobby little treats...</td>\n",
       "      <td>1</td>\n",
       "      <td>0</td>\n",
       "    </tr>\n",
       "    <tr>\n",
       "      <th>1</th>\n",
       "      <td>alfred hitchcok favorite means imagine done ho...</td>\n",
       "      <td>4</td>\n",
       "      <td>0</td>\n",
       "    </tr>\n",
       "    <tr>\n",
       "      <th>2</th>\n",
       "      <td>i've several alice wonderland take worst bough...</td>\n",
       "      <td>1</td>\n",
       "      <td>0</td>\n",
       "    </tr>\n",
       "    <tr>\n",
       "      <th>3</th>\n",
       "      <td>may potential plausible enjoyable main roberts...</td>\n",
       "      <td>3</td>\n",
       "      <td>0</td>\n",
       "    </tr>\n",
       "    <tr>\n",
       "      <th>4</th>\n",
       "      <td>classic cop flick sadly overlooked basically f...</td>\n",
       "      <td>8</td>\n",
       "      <td>1</td>\n",
       "    </tr>\n",
       "    <tr>\n",
       "      <th>...</th>\n",
       "      <td>...</td>\n",
       "      <td>...</td>\n",
       "      <td>...</td>\n",
       "    </tr>\n",
       "    <tr>\n",
       "      <th>49995</th>\n",
       "      <td>i shorts leaps ahead acting directing filming ...</td>\n",
       "      <td>9</td>\n",
       "      <td>1</td>\n",
       "    </tr>\n",
       "    <tr>\n",
       "      <th>49996</th>\n",
       "      <td>unconditional best it's emotional pub when gra...</td>\n",
       "      <td>10</td>\n",
       "      <td>1</td>\n",
       "    </tr>\n",
       "    <tr>\n",
       "      <th>49997</th>\n",
       "      <td>first offwith fred ray janmichael vincent rhin...</td>\n",
       "      <td>4</td>\n",
       "      <td>0</td>\n",
       "    </tr>\n",
       "    <tr>\n",
       "      <th>49998</th>\n",
       "      <td>private spun fairly successful well written gr...</td>\n",
       "      <td>3</td>\n",
       "      <td>0</td>\n",
       "    </tr>\n",
       "    <tr>\n",
       "      <th>49999</th>\n",
       "      <td>would great initiated brief tale peopleit chuc...</td>\n",
       "      <td>10</td>\n",
       "      <td>1</td>\n",
       "    </tr>\n",
       "  </tbody>\n",
       "</table>\n",
       "<p>50000 rows × 3 columns</p>\n",
       "</div>"
      ],
      "text/plain": [
       "                                                  Review  Rating  Sentiment\n",
       "0      absolutely terrible funny snobby little treats...       1          0\n",
       "1      alfred hitchcok favorite means imagine done ho...       4          0\n",
       "2      i've several alice wonderland take worst bough...       1          0\n",
       "3      may potential plausible enjoyable main roberts...       3          0\n",
       "4      classic cop flick sadly overlooked basically f...       8          1\n",
       "...                                                  ...     ...        ...\n",
       "49995  i shorts leaps ahead acting directing filming ...       9          1\n",
       "49996  unconditional best it's emotional pub when gra...      10          1\n",
       "49997  first offwith fred ray janmichael vincent rhin...       4          0\n",
       "49998  private spun fairly successful well written gr...       3          0\n",
       "49999  would great initiated brief tale peopleit chuc...      10          1\n",
       "\n",
       "[50000 rows x 3 columns]"
      ]
     },
     "execution_count": 8,
     "metadata": {},
     "output_type": "execute_result"
    }
   ],
   "source": [
    "dff"
   ]
  },
  {
   "cell_type": "code",
   "execution_count": 9,
   "metadata": {},
   "outputs": [],
   "source": [
    "#stemming program / not used as of now - lowers accuracy \n",
    "porterstemmer = PorterStemmer()\n",
    "\n",
    "def steming(message):\n",
    "  return[porterstemmer.stem(word) for word in message.split()]"
   ]
  },
  {
   "cell_type": "code",
   "execution_count": 10,
   "metadata": {},
   "outputs": [],
   "source": [
    "#dividing data betweeen test and tain\n",
    "train_X = dff['Review'].head(25000)  \n",
    "train_Y = dff['Sentiment'].head(25000)  \n",
    "test_X = dff['Review'].tail(25000) \n",
    "test_Y = dff['Sentiment'].tail(25000)"
   ]
  },
  {
   "cell_type": "code",
   "execution_count": 11,
   "metadata": {},
   "outputs": [],
   "source": [
    "#tf idf\n",
    "tf_idf = TfidfVectorizer()\n",
    "count = CountVectorizer()\n",
    "#applying tf idf to training data\n",
    "X_train_tf = tf_idf.fit_transform(train_X)\n",
    "# count_X_train_tf = count.fit_transform(train_X)\n",
    "#applying tf idf to training data\n"
   ]
  },
  {
   "cell_type": "code",
   "execution_count": 41,
   "metadata": {},
   "outputs": [
    {
     "name": "stdout",
     "output_type": "stream",
     "text": [
      "(25000, 66465)\n"
     ]
    },
    {
     "data": {
      "text/html": [
       "<div>\n",
       "<style scoped>\n",
       "    .dataframe tbody tr th:only-of-type {\n",
       "        vertical-align: middle;\n",
       "    }\n",
       "\n",
       "    .dataframe tbody tr th {\n",
       "        vertical-align: top;\n",
       "    }\n",
       "\n",
       "    .dataframe thead th {\n",
       "        text-align: right;\n",
       "    }\n",
       "</style>\n",
       "<table border=\"1\" class=\"dataframe\">\n",
       "  <thead>\n",
       "    <tr style=\"text-align: right;\">\n",
       "      <th></th>\n",
       "      <th>tfidf</th>\n",
       "    </tr>\n",
       "  </thead>\n",
       "  <tbody>\n",
       "    <tr>\n",
       "      <th>snobby</th>\n",
       "      <td>0.317767</td>\n",
       "    </tr>\n",
       "    <tr>\n",
       "      <th>hispanic</th>\n",
       "      <td>0.279741</td>\n",
       "    </tr>\n",
       "    <tr>\n",
       "      <th>treats</th>\n",
       "      <td>0.275119</td>\n",
       "    </tr>\n",
       "    <tr>\n",
       "      <th>senses</th>\n",
       "      <td>0.259214</td>\n",
       "    </tr>\n",
       "    <tr>\n",
       "      <th>abc</th>\n",
       "      <td>0.249715</td>\n",
       "    </tr>\n",
       "    <tr>\n",
       "      <th>...</th>\n",
       "      <td>...</td>\n",
       "    </tr>\n",
       "    <tr>\n",
       "      <th>friendskill</th>\n",
       "      <td>0.000000</td>\n",
       "    </tr>\n",
       "    <tr>\n",
       "      <th>friendsloved</th>\n",
       "      <td>0.000000</td>\n",
       "    </tr>\n",
       "    <tr>\n",
       "      <th>friendsneighborsunite</th>\n",
       "      <td>0.000000</td>\n",
       "    </tr>\n",
       "    <tr>\n",
       "      <th>friendsso</th>\n",
       "      <td>0.000000</td>\n",
       "    </tr>\n",
       "    <tr>\n",
       "      <th>ünfaithful</th>\n",
       "      <td>0.000000</td>\n",
       "    </tr>\n",
       "  </tbody>\n",
       "</table>\n",
       "<p>66465 rows × 1 columns</p>\n",
       "</div>"
      ],
      "text/plain": [
       "                          tfidf\n",
       "snobby                 0.317767\n",
       "hispanic               0.279741\n",
       "treats                 0.275119\n",
       "senses                 0.259214\n",
       "abc                    0.249715\n",
       "...                         ...\n",
       "friendskill            0.000000\n",
       "friendsloved           0.000000\n",
       "friendsneighborsunite  0.000000\n",
       "friendsso              0.000000\n",
       "ünfaithful             0.000000\n",
       "\n",
       "[66465 rows x 1 columns]"
      ]
     },
     "execution_count": 41,
     "metadata": {},
     "output_type": "execute_result"
    }
   ],
   "source": [
    "#bag or words - not super helpful given the size of our data but here's top 20 words - meaning they have the most features in documents\n",
    "text_X = [review for review in train_X]\n",
    "\n",
    "count_matrix = count.fit_transform(text_X)\n",
    "count_array = count_matrix.toarray()\n",
    "print(count_matrix.shape)\n",
    "\n",
    "\n",
    "tfidf_transformer=TfidfTransformer(smooth_idf=True,use_idf=True)\n",
    "tfidf_transformer.fit(count_matrix)\n",
    "df_idf = pd.DataFrame(tfidf_transformer.idf_, index=coun_vect.get_feature_names_out(),columns=[\"idf_weights\"])\n",
    "\n",
    "#inverse document frequency\n",
    "df_idf.sort_values(by=['idf_weights'])\n",
    "\n",
    "# count matrix \n",
    "count_vector=coun_vect.transform(text_X) \n",
    "# tf-idf scores \n",
    "tf_idf_vector=tfidf_transformer.transform(count_vector)\n",
    "\n",
    "feature_names = coun_vect.get_feature_names_out() \n",
    "#get tfidf vector for first document \n",
    "first_document_vector=tf_idf_vector[0] \n",
    "#print the scores \n",
    "df = pd.DataFrame(first_document_vector.T.todense(), index=feature_names, columns=[\"tfidf\"]) \n",
    "df.sort_values(by=[\"tfidf\"],ascending=False)"
   ]
  },
  {
   "cell_type": "code",
   "execution_count": 33,
   "metadata": {},
   "outputs": [
    {
     "name": "stdout",
     "output_type": "stream",
     "text": [
      "n_samples: 25000, n_features: 66465\n"
     ]
    }
   ],
   "source": [
    "print(\"n_samples: %d, n_features: %d\" % X_train_tf.shape)"
   ]
  },
  {
   "cell_type": "code",
   "execution_count": 34,
   "metadata": {},
   "outputs": [
    {
     "name": "stdout",
     "output_type": "stream",
     "text": [
      "n_samples: 25000, n_features: 66465\n"
     ]
    }
   ],
   "source": [
    "#transforming test data into tf-idf matrix\n",
    "X_test_tf = tf_idf.transform(test_X)\n",
    "\n",
    "print(\"n_samples: %d, n_features: %d\" % X_test_tf.shape) # the result of the test data and training data are the same"
   ]
  },
  {
   "cell_type": "code",
   "execution_count": 36,
   "metadata": {},
   "outputs": [
    {
     "name": "stdout",
     "output_type": "stream",
     "text": [
      "              precision    recall  f1-score   support\n",
      "\n",
      "         neg       0.85      0.87      0.86     12516\n",
      "         pos       0.87      0.85      0.86     12484\n",
      "\n",
      "    accuracy                           0.86     25000\n",
      "   macro avg       0.86      0.86      0.86     25000\n",
      "weighted avg       0.86      0.86      0.86     25000\n",
      "\n",
      "Confusion matrix:\n",
      "[[10920  1596]\n",
      " [ 1887 10597]]\n"
     ]
    }
   ],
   "source": [
    "#naive bayes classifier\n",
    "naive_bayes_classifier = MultinomialNB()\n",
    "naive_bayes_classifier.fit(X_train_tf, train_Y)\n",
    "#predicted y\n",
    "y_pred = naive_bayes_classifier.predict(X_test_tf)\n",
    "\n",
    "print(metrics.classification_report(test_Y, y_pred, target_names=['neg','pos']))\n",
    "print(\"Confusion matrix:\")\n",
    "print(metrics.confusion_matrix(test_Y, y_pred))"
   ]
  },
  {
   "cell_type": "code",
   "execution_count": 16,
   "metadata": {},
   "outputs": [],
   "source": [
    "test = 'First of all it was my childhood dream to see these hero\\'s in a big screen and it was full filled. The movie was quite good for me but after getting out of the theatre there were not much scenes in my mind that i can feel awesome about. Zack Snyder is a master in making comic book style of movies he has proved it by his movie the Watchmen but in the movie the Justice league the movie lost its synder touch and the whole movie looks like a rip off to marvel movie mantra that they use in there films(like the happy go jolly characters not much tension on the screen light hearted) likewise Josh wedon has made this movie into a marvel like film. The Justice league had many character moments for all but the grip was loosen up to make the fan/audience glue to there seats. The whole colour tone of the movie was changed by josh and as the Wb asked them to cut down its length to 2hrs(as the internet says Wb asked them to do so) But anyone who watched the film can easily see that many of the scenes showned in the trailer is not in the movie,even the dialogue by steppen wolf \"No protector here.. .. .   .... This world will fall like all the others\" that one was also cut off in the film.in justice league the expensive reshooted scenes that have no connection to the actual film plot and at first report the movies run time was nearly 3hrs and now we got a 2hrs 1min movie to watch with most of the scenes cut off..As a movie lover its just hurts know that they reduce the length of the film that has so much potential to reach for more.When Bvs released the critics and some marvel fan boys said its so dark and lengthy with not much strong plot to establish the cause of the fight between Batman and superman. But after they release the extended cut bvs we all get to know the exact chronology of the plot. Likewise this movie should also release the extended cut/directors cut version but zack was great for making something that is so gripping and his tones delivers the theme itself but here its all josh wedon who just ruined Zack\\'s vision and made a marvel-istic movie with his Cuts. Overall the movie was Great and All the actors played there roles perfectly and the image of batman had be shifted abit in my view as there is a bit of difference between the Bvs batman and the JL batman, Bvs batman was more like the exact comic book Dark Knight but in this He is more Like Tony stark here and there. And those who relay on F**king tomatoes ratings don\\'t watch If you are a movie lover and if this is your genre then go for it From the intro scene of Batman you will love the movie While watching the films you won\\'t be able to see any flaws because of its paced 2hrs cut.For me the rating for this film would be 6.5/10. Go and watch for yourself its an entertaining Flick don\\'t miss it ..the only draw back you will have will be with its running time and scenes cut off.'\n",
    "\n",
    "testB = 'Within the first two minutes it was already clear that this film was gonna suck. Every shot of this film feels incredibly forced.  There was not one shot where I could forget I was watching a movie that had a crew with incredibly large egos.  The pacing, the shot choices, the action sequences,  the ridiculously contrived editing, the terrible soundtrack that was a mish mash of action movie devices without a good central theme, the dialogue, the acting, NOTHING FLOWED.  Even the wardrobe dept.  yes it’s a costume, but it’s not suppose to feel like a costume.  The lack of textures made everything feel like plastic.  The first scene where the poor Icelandic people were dressed like 1930s depression era fisherman was a bit insulting.  I feel I must apologize to Icelandic people for how they were portrayed in this film.  And every time this film tried to inject humanity it was so forced I had to swallow my vomit.  This is why films are not graphic novels.  Frankly it felt like the entire movie was just aggravating slow pans from from one still to another, before shots are gratuitously sped up to try and create some level of  adrenaline.  A lot of panning, oh so much panning, and when they were panning they were slow zooming.  And when they weren’t slow zooming, the camera was at a dramatic tilt.  I can’t say much about the acting because they direction was so excessive, that there was no room for actors.  Most of them just had to make sure they got their lines out and didn’t accidentally act too much as to break the very stiff composition of the shot.  Their faces were half shadowed in most scenes so you couldn’t see them anyway. . . one more turd in the DC universes.  Please stop letting Zack Snyder do anything. . . Just stop.'\n",
    "\n",
    "testc = \"I liked this movie. But I had a problem with the plot. It has my favorite actor.\"\n",
    "processed = []\n",
    "processed.append(text_clean(test))"
   ]
  },
  {
   "cell_type": "code",
   "execution_count": 17,
   "metadata": {},
   "outputs": [
    {
     "name": "stdout",
     "output_type": "stream",
     "text": [
      "Good Review\n"
     ]
    }
   ],
   "source": [
    "test_input = tf_idf.transform(processed)\n",
    "test_input.shape\n",
    "\n",
    "#0= bad review\n",
    "#1= good review\n",
    "res=naive_bayes_classifier.predict(test_input)[0]\n",
    "\n",
    "if res==1:\n",
    "    print(\"Good Review\")\n",
    "elif res==0:\n",
    "    print(\"Bad Review\")"
   ]
  }
 ],
 "metadata": {
  "kernelspec": {
   "display_name": "Python 3.10.2 64-bit",
   "language": "python",
   "name": "python3"
  },
  "language_info": {
   "codemirror_mode": {
    "name": "ipython",
    "version": 3
   },
   "file_extension": ".py",
   "mimetype": "text/x-python",
   "name": "python",
   "nbconvert_exporter": "python",
   "pygments_lexer": "ipython3",
   "version": "3.10.2"
  },
  "orig_nbformat": 4,
  "vscode": {
   "interpreter": {
    "hash": "93fc48ac95f2a524802d2b916031a45fd84abb9f132d20c28eee477d58cd39d2"
   }
  }
 },
 "nbformat": 4,
 "nbformat_minor": 2
}
